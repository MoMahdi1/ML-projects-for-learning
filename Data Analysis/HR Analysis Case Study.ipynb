{
 "cells": [
  {
   "cell_type": "markdown",
   "id": "ad4a1b00",
   "metadata": {
    "id": "ad4a1b00"
   },
   "source": [
    "![hr.jpg](attachment:hr.jpg)"
   ]
  },
  {
   "cell_type": "markdown",
   "id": "4298e92e",
   "metadata": {
    "id": "4298e92e"
   },
   "source": [
    "# Answer these questions using the libraries Pandas and Numpy."
   ]
  },
  {
   "cell_type": "markdown",
   "id": "217e72fd",
   "metadata": {
    "id": "217e72fd"
   },
   "source": [
    "1-How many rows and columns are there in the dataset?\n",
    "\n",
    "2-What are the unique values in the 'department' column?\n",
    "\n",
    "3-How many unique regions are covered in the dataset?\n",
    "\n",
    "4-What are the different levels of education among the employees?\n",
    "\n",
    "5-How many male and female employees are there in the dataset?\n",
    "\n",
    "6-What are the different recruitment channels used by the company?\n",
    "\n",
    "7-What is the maximum number of trainings attended by an employee?\n",
    "\n",
    "8-What is the average age of employees in the dataset?\n",
    "\n",
    "9-What is the maximum length of service among the employees?\n",
    "\n",
    "10-What percentage of employees in the dataset were actually promoted?\n",
    "\n",
    "11-What is the average age of promoted employees compared to non-promoted ones?\n",
    "\n",
    "12-How does the average training score differ between promoted and non-promoted employees?\n",
    "\n",
    "13-What is the average length of service for promoted employees?\n",
    "\n",
    "14-What is the proportion of employees who have won awards among promoted employees?\n",
    "\n",
    "15-Is there a correlation between KPIs met >80% and promotion?\n",
    "\n",
    "16-What is the correlation between the number of trainings attended and promotion?\n",
    "\n",
    "17-How does the length of service correlate with the average training score?\n",
    "\n",
    "18-Is there any correlation between age and the number of trainings attended?\n",
    "\n",
    "19-How can you group the data by department and calculate the average age for each department?\n",
    "\n",
    "20-What is the total number of trainings attended by employees in each region?"
   ]
  },
  {
   "cell_type": "code",
   "execution_count": 1,
   "id": "4fd9be4d",
   "metadata": {
    "id": "4fd9be4d"
   },
   "outputs": [],
   "source": [
    "import pandas as pd"
   ]
  },
  {
   "cell_type": "code",
   "execution_count": 2,
   "id": "20427cb4-6bfa-4068-bc6e-688cc4151959",
   "metadata": {},
   "outputs": [
    {
     "data": {
      "text/html": [
       "<div>\n",
       "<style scoped>\n",
       "    .dataframe tbody tr th:only-of-type {\n",
       "        vertical-align: middle;\n",
       "    }\n",
       "\n",
       "    .dataframe tbody tr th {\n",
       "        vertical-align: top;\n",
       "    }\n",
       "\n",
       "    .dataframe thead th {\n",
       "        text-align: right;\n",
       "    }\n",
       "</style>\n",
       "<table border=\"1\" class=\"dataframe\">\n",
       "  <thead>\n",
       "    <tr style=\"text-align: right;\">\n",
       "      <th></th>\n",
       "      <th>employee_id</th>\n",
       "      <th>department</th>\n",
       "      <th>region</th>\n",
       "      <th>education</th>\n",
       "      <th>gender</th>\n",
       "      <th>recruitment_channel</th>\n",
       "      <th>no_of_trainings</th>\n",
       "      <th>age</th>\n",
       "      <th>previous_year_rating</th>\n",
       "      <th>length_of_service</th>\n",
       "      <th>KPIs_met &gt;80%</th>\n",
       "      <th>awards_won?</th>\n",
       "      <th>avg_training_score</th>\n",
       "      <th>is_promoted</th>\n",
       "    </tr>\n",
       "  </thead>\n",
       "  <tbody>\n",
       "    <tr>\n",
       "      <th>0</th>\n",
       "      <td>65438</td>\n",
       "      <td>Sales &amp; Marketing</td>\n",
       "      <td>region_7</td>\n",
       "      <td>Master's &amp; above</td>\n",
       "      <td>f</td>\n",
       "      <td>sourcing</td>\n",
       "      <td>1</td>\n",
       "      <td>35</td>\n",
       "      <td>5.0</td>\n",
       "      <td>8</td>\n",
       "      <td>1</td>\n",
       "      <td>0</td>\n",
       "      <td>49</td>\n",
       "      <td>0</td>\n",
       "    </tr>\n",
       "    <tr>\n",
       "      <th>1</th>\n",
       "      <td>65141</td>\n",
       "      <td>Operations</td>\n",
       "      <td>region_22</td>\n",
       "      <td>Bachelor's</td>\n",
       "      <td>m</td>\n",
       "      <td>other</td>\n",
       "      <td>1</td>\n",
       "      <td>30</td>\n",
       "      <td>5.0</td>\n",
       "      <td>4</td>\n",
       "      <td>0</td>\n",
       "      <td>0</td>\n",
       "      <td>60</td>\n",
       "      <td>0</td>\n",
       "    </tr>\n",
       "    <tr>\n",
       "      <th>2</th>\n",
       "      <td>7513</td>\n",
       "      <td>Sales &amp; Marketing</td>\n",
       "      <td>region_19</td>\n",
       "      <td>Bachelor's</td>\n",
       "      <td>m</td>\n",
       "      <td>sourcing</td>\n",
       "      <td>1</td>\n",
       "      <td>34</td>\n",
       "      <td>3.0</td>\n",
       "      <td>7</td>\n",
       "      <td>0</td>\n",
       "      <td>0</td>\n",
       "      <td>50</td>\n",
       "      <td>0</td>\n",
       "    </tr>\n",
       "    <tr>\n",
       "      <th>3</th>\n",
       "      <td>2542</td>\n",
       "      <td>Sales &amp; Marketing</td>\n",
       "      <td>region_23</td>\n",
       "      <td>Bachelor's</td>\n",
       "      <td>m</td>\n",
       "      <td>other</td>\n",
       "      <td>2</td>\n",
       "      <td>39</td>\n",
       "      <td>1.0</td>\n",
       "      <td>10</td>\n",
       "      <td>0</td>\n",
       "      <td>0</td>\n",
       "      <td>50</td>\n",
       "      <td>0</td>\n",
       "    </tr>\n",
       "    <tr>\n",
       "      <th>4</th>\n",
       "      <td>48945</td>\n",
       "      <td>Technology</td>\n",
       "      <td>region_26</td>\n",
       "      <td>Bachelor's</td>\n",
       "      <td>m</td>\n",
       "      <td>other</td>\n",
       "      <td>1</td>\n",
       "      <td>45</td>\n",
       "      <td>3.0</td>\n",
       "      <td>2</td>\n",
       "      <td>0</td>\n",
       "      <td>0</td>\n",
       "      <td>73</td>\n",
       "      <td>0</td>\n",
       "    </tr>\n",
       "  </tbody>\n",
       "</table>\n",
       "</div>"
      ],
      "text/plain": [
       "   employee_id         department     region         education gender  \\\n",
       "0        65438  Sales & Marketing   region_7  Master's & above      f   \n",
       "1        65141         Operations  region_22        Bachelor's      m   \n",
       "2         7513  Sales & Marketing  region_19        Bachelor's      m   \n",
       "3         2542  Sales & Marketing  region_23        Bachelor's      m   \n",
       "4        48945         Technology  region_26        Bachelor's      m   \n",
       "\n",
       "  recruitment_channel  no_of_trainings  age  previous_year_rating  \\\n",
       "0            sourcing                1   35                   5.0   \n",
       "1               other                1   30                   5.0   \n",
       "2            sourcing                1   34                   3.0   \n",
       "3               other                2   39                   1.0   \n",
       "4               other                1   45                   3.0   \n",
       "\n",
       "   length_of_service  KPIs_met >80%  awards_won?  avg_training_score  \\\n",
       "0                  8              1            0                  49   \n",
       "1                  4              0            0                  60   \n",
       "2                  7              0            0                  50   \n",
       "3                 10              0            0                  50   \n",
       "4                  2              0            0                  73   \n",
       "\n",
       "   is_promoted  \n",
       "0            0  \n",
       "1            0  \n",
       "2            0  \n",
       "3            0  \n",
       "4            0  "
      ]
     },
     "execution_count": 2,
     "metadata": {},
     "output_type": "execute_result"
    }
   ],
   "source": [
    "data = pd.read_csv(\"data.csv\")\n",
    "data.head()"
   ]
  },
  {
   "cell_type": "code",
   "execution_count": 3,
   "id": "6aa19f93",
   "metadata": {
    "id": "6aa19f93"
   },
   "outputs": [
    {
     "data": {
      "text/plain": [
       "(54808, 14)"
      ]
     },
     "execution_count": 3,
     "metadata": {},
     "output_type": "execute_result"
    }
   ],
   "source": [
    "data.shape"
   ]
  },
  {
   "cell_type": "code",
   "execution_count": 4,
   "id": "64a738c5",
   "metadata": {
    "id": "64a738c5"
   },
   "outputs": [
    {
     "data": {
      "text/plain": [
       "array(['Sales & Marketing', 'Operations', 'Technology', 'Analytics',\n",
       "       'R&D', 'Procurement', 'Finance', 'HR', 'Legal'], dtype=object)"
      ]
     },
     "execution_count": 4,
     "metadata": {},
     "output_type": "execute_result"
    }
   ],
   "source": [
    "data[\"department\"].unique()"
   ]
  },
  {
   "cell_type": "code",
   "execution_count": 5,
   "id": "6ca2e223-4401-437f-ad06-60f0d55c0748",
   "metadata": {},
   "outputs": [
    {
     "data": {
      "text/plain": [
       "34"
      ]
     },
     "execution_count": 5,
     "metadata": {},
     "output_type": "execute_result"
    }
   ],
   "source": [
    "data[\"region\"].nunique()"
   ]
  },
  {
   "cell_type": "code",
   "execution_count": 6,
   "id": "f0303a73-f6fd-40cc-b7b1-85a1ec527b5d",
   "metadata": {},
   "outputs": [
    {
     "data": {
      "text/plain": [
       "array([\"Master's & above\", \"Bachelor's\", nan, 'Below Secondary'],\n",
       "      dtype=object)"
      ]
     },
     "execution_count": 6,
     "metadata": {},
     "output_type": "execute_result"
    }
   ],
   "source": [
    "data[\"education\"].unique()"
   ]
  },
  {
   "cell_type": "code",
   "execution_count": 7,
   "id": "8d221324-dfb1-48bd-8058-b5c2c916bd92",
   "metadata": {},
   "outputs": [
    {
     "data": {
      "text/plain": [
       "gender\n",
       "m    38496\n",
       "f    16312\n",
       "Name: count, dtype: int64"
      ]
     },
     "execution_count": 7,
     "metadata": {},
     "output_type": "execute_result"
    }
   ],
   "source": [
    "data[\"gender\"].value_counts()"
   ]
  },
  {
   "cell_type": "code",
   "execution_count": 8,
   "id": "ab1d2c30-b216-4cdf-aec2-b2d7d469893d",
   "metadata": {},
   "outputs": [
    {
     "data": {
      "text/plain": [
       "array(['sourcing', 'other', 'referred'], dtype=object)"
      ]
     },
     "execution_count": 8,
     "metadata": {},
     "output_type": "execute_result"
    }
   ],
   "source": [
    "data['recruitment_channel'].unique()"
   ]
  },
  {
   "cell_type": "code",
   "execution_count": 9,
   "id": "91031c3e-37ad-4d04-899b-eb2f951f728a",
   "metadata": {},
   "outputs": [
    {
     "data": {
      "text/plain": [
       "10"
      ]
     },
     "execution_count": 9,
     "metadata": {},
     "output_type": "execute_result"
    }
   ],
   "source": [
    "data[\"no_of_trainings\"].max()"
   ]
  },
  {
   "cell_type": "code",
   "execution_count": 10,
   "id": "4985e0ff-c6bc-470c-bf15-c021b22289be",
   "metadata": {},
   "outputs": [
    {
     "data": {
      "text/plain": [
       "34.80391548679025"
      ]
     },
     "execution_count": 10,
     "metadata": {},
     "output_type": "execute_result"
    }
   ],
   "source": [
    "data[\"age\"].mean()"
   ]
  },
  {
   "cell_type": "code",
   "execution_count": 11,
   "id": "58b2ce32-a721-465a-9db5-ecda3bc96398",
   "metadata": {},
   "outputs": [
    {
     "data": {
      "text/plain": [
       "37"
      ]
     },
     "execution_count": 11,
     "metadata": {},
     "output_type": "execute_result"
    }
   ],
   "source": [
    "data[\"length_of_service\"].max()"
   ]
  },
  {
   "cell_type": "code",
   "execution_count": 12,
   "id": "248f9ae0-bcc8-4128-8a3d-6073f4c0e731",
   "metadata": {},
   "outputs": [
    {
     "data": {
      "text/plain": [
       "is_promoted\n",
       "0    50140\n",
       "1     4668\n",
       "Name: count, dtype: int64"
      ]
     },
     "execution_count": 12,
     "metadata": {},
     "output_type": "execute_result"
    }
   ],
   "source": [
    "data[\"is_promoted\"].value_counts()"
   ]
  },
  {
   "cell_type": "code",
   "execution_count": 13,
   "id": "c7da0b86-055d-4c17-b1fc-d97edbdc012c",
   "metadata": {},
   "outputs": [
    {
     "data": {
      "text/plain": [
       "8.517004816815064"
      ]
     },
     "execution_count": 13,
     "metadata": {},
     "output_type": "execute_result"
    }
   ],
   "source": [
    "total_employee = len(data)\n",
    "promoted_employee = data[\"is_promoted\"].sum()\n",
    "the_precentage = (promoted_employee /total_employee)*100 \n",
    "the_precentage"
   ]
  },
  {
   "cell_type": "code",
   "execution_count": 14,
   "id": "f12c855e-4e8c-4ae0-9e21-bb18f1d56c24",
   "metadata": {},
   "outputs": [],
   "source": [
    "avr_age_promoted = data[data[\"is_promoted\"]==1][\"age\"].mean()\n",
    "avr_age_non_promoted = data[data[\"is_promoted\"]==0][\"age\"].mean()"
   ]
  },
  {
   "cell_type": "code",
   "execution_count": 15,
   "id": "31d3c3f9-d5d9-47a3-b5db-70f8d51a39e4",
   "metadata": {},
   "outputs": [
    {
     "data": {
      "text/plain": [
       "34.372964867180805"
      ]
     },
     "execution_count": 15,
     "metadata": {},
     "output_type": "execute_result"
    }
   ],
   "source": [
    "avr_age_promoted\n"
   ]
  },
  {
   "cell_type": "code",
   "execution_count": 16,
   "id": "a23044fb-9523-4840-86c5-689eaa58036b",
   "metadata": {},
   "outputs": [
    {
     "data": {
      "text/plain": [
       "34.84403669724771"
      ]
     },
     "execution_count": 16,
     "metadata": {},
     "output_type": "execute_result"
    }
   ],
   "source": [
    "avr_age_non_promoted"
   ]
  },
  {
   "cell_type": "code",
   "execution_count": 17,
   "id": "8453542c-63d3-4ec6-803f-6609c655ccee",
   "metadata": {},
   "outputs": [
    {
     "data": {
      "text/plain": [
       "71.32519280205655"
      ]
     },
     "execution_count": 17,
     "metadata": {},
     "output_type": "execute_result"
    }
   ],
   "source": [
    "avr_traning_score = data[data[\"is_promoted\"]==1][\"avg_training_score\"].mean()\n",
    "avr_traning_score"
   ]
  },
  {
   "cell_type": "code",
   "execution_count": 18,
   "id": "8867af68-58a9-4a38-9a3d-909621d652d6",
   "metadata": {},
   "outputs": [
    {
     "data": {
      "text/plain": [
       "5.716366752356469"
      ]
     },
     "execution_count": 18,
     "metadata": {},
     "output_type": "execute_result"
    }
   ],
   "source": [
    "avr_len_service = data[data[\"is_promoted\"]==1][\"length_of_service\"].mean()\n",
    "avr_len_service"
   ]
  },
  {
   "cell_type": "markdown",
   "id": "38acb9b2-aca4-4c15-ac26-2abbe467d0a4",
   "metadata": {},
   "source": [
    "**14-What is the proportion of employees who have won awards among promoted employees?**"
   ]
  },
  {
   "cell_type": "code",
   "execution_count": 19,
   "id": "0a2c874e-6cc1-4c55-9209-87774f7f84c4",
   "metadata": {},
   "outputs": [
    {
     "data": {
      "text/plain": [
       "559"
      ]
     },
     "execution_count": 19,
     "metadata": {},
     "output_type": "execute_result"
    }
   ],
   "source": [
    "promoted_win = len(data[(data[\"is_promoted\"]==1)&(data[\"awards_won?\"]==1)])\n",
    "promoted_win"
   ]
  },
  {
   "cell_type": "code",
   "execution_count": 20,
   "id": "301726e4-e81d-4c1e-8e6e-40f3d6b1a77e",
   "metadata": {},
   "outputs": [
    {
     "data": {
      "text/plain": [
       "4668"
      ]
     },
     "execution_count": 20,
     "metadata": {},
     "output_type": "execute_result"
    }
   ],
   "source": [
    "len_promoted = len(data[data[\"is_promoted\"]==1])\n",
    "len_promoted"
   ]
  },
  {
   "cell_type": "code",
   "execution_count": 21,
   "id": "bdf0b2a3-75f2-4e77-aca0-e4837a8a3c69",
   "metadata": {},
   "outputs": [
    {
     "data": {
      "text/plain": [
       "11.975149957155098"
      ]
     },
     "execution_count": 21,
     "metadata": {},
     "output_type": "execute_result"
    }
   ],
   "source": [
    "proportion_awarded_promoted = (promoted_win / len_promoted)*100\n",
    "proportion_awarded_promoted"
   ]
  },
  {
   "cell_type": "code",
   "execution_count": 22,
   "id": "feb71136-b99c-495c-8040-c3f0f1e170cc",
   "metadata": {},
   "outputs": [
    {
     "data": {
      "text/plain": [
       "0.22158153967700986"
      ]
     },
     "execution_count": 22,
     "metadata": {},
     "output_type": "execute_result"
    }
   ],
   "source": [
    "correlation = data['KPIs_met >80%'].astype(int).corr(data['is_promoted'])\n",
    "correlation"
   ]
  },
  {
   "cell_type": "code",
   "execution_count": 23,
   "id": "c63f6ac1-f56b-4235-b888-fcdac2059348",
   "metadata": {},
   "outputs": [
    {
     "data": {
      "text/plain": [
       "-0.0248959176824125"
      ]
     },
     "execution_count": 23,
     "metadata": {},
     "output_type": "execute_result"
    }
   ],
   "source": [
    "correlation = data[\"no_of_trainings\"].astype(int).corr(data[\"is_promoted\"])\n",
    "correlation"
   ]
  },
  {
   "cell_type": "code",
   "execution_count": 24,
   "id": "29176de9-dc72-4505-b525-5eb582338f70",
   "metadata": {},
   "outputs": [
    {
     "data": {
      "text/plain": [
       "-0.03812215595838484"
      ]
     },
     "execution_count": 24,
     "metadata": {},
     "output_type": "execute_result"
    }
   ],
   "source": [
    "correlation = data[\"length_of_service\"].corr(data[\"avg_training_score\"])\n",
    "correlation"
   ]
  },
  {
   "cell_type": "code",
   "execution_count": 25,
   "id": "c9f6f611-7aa3-4a9c-a960-8ab2deacd763",
   "metadata": {},
   "outputs": [
    {
     "data": {
      "text/plain": [
       "-0.0812778851589133"
      ]
     },
     "execution_count": 25,
     "metadata": {},
     "output_type": "execute_result"
    }
   ],
   "source": [
    "correlation = data[\"age\"].corr(data[\"no_of_trainings\"])\n",
    "correlation"
   ]
  },
  {
   "cell_type": "code",
   "execution_count": 26,
   "id": "9ec59004-f2fa-4954-81be-2b2007414727",
   "metadata": {},
   "outputs": [
    {
     "data": {
      "text/plain": [
       "department\n",
       "Analytics            32.431241\n",
       "Finance              32.058754\n",
       "HR                   34.385856\n",
       "Legal                33.832531\n",
       "Operations           36.073669\n",
       "Procurement          35.899972\n",
       "R&D                  32.842843\n",
       "Sales & Marketing    34.860629\n",
       "Technology           34.867190\n",
       "Name: age, dtype: float64"
      ]
     },
     "execution_count": 26,
     "metadata": {},
     "output_type": "execute_result"
    }
   ],
   "source": [
    "average_age_by_department = data.groupby(\"department\")[\"age\"].mean()\n",
    "average_age_by_department"
   ]
  },
  {
   "cell_type": "code",
   "execution_count": 27,
   "id": "aad2e65c-5579-48d2-9b42-f94bebb391de",
   "metadata": {},
   "outputs": [
    {
     "data": {
      "text/plain": [
       "region\n",
       "region_1       712\n",
       "region_10      764\n",
       "region_11     1561\n",
       "region_12      591\n",
       "region_13     3121\n",
       "region_14      937\n",
       "region_15     3454\n",
       "region_16     1739\n",
       "region_17      899\n",
       "region_18       33\n",
       "region_19     1041\n",
       "region_2     16080\n",
       "region_20     1017\n",
       "region_21      501\n",
       "region_22     9036\n",
       "region_23     1456\n",
       "region_24      624\n",
       "region_25     1004\n",
       "region_26     2696\n",
       "region_27     2093\n",
       "region_28     1665\n",
       "region_29     1167\n",
       "region_3       390\n",
       "region_30      761\n",
       "region_31     2443\n",
       "region_32     1161\n",
       "region_33      300\n",
       "region_34      351\n",
       "region_4      2017\n",
       "region_5       910\n",
       "region_6       803\n",
       "region_7      6116\n",
       "region_8       703\n",
       "region_9       529\n",
       "Name: no_of_trainings, dtype: int64"
      ]
     },
     "execution_count": 27,
     "metadata": {},
     "output_type": "execute_result"
    }
   ],
   "source": [
    "total_trainings_by_region = data.groupby(\"region\")[\"no_of_trainings\"].sum()\n",
    "total_trainings_by_region"
   ]
  },
  {
   "cell_type": "code",
   "execution_count": null,
   "id": "d38a8483-161f-47ef-acec-ee63b25369bd",
   "metadata": {},
   "outputs": [],
   "source": []
  }
 ],
 "metadata": {
  "colab": {
   "provenance": []
  },
  "kernelspec": {
   "display_name": "Python 3 (ipykernel)",
   "language": "python",
   "name": "python3"
  },
  "language_info": {
   "codemirror_mode": {
    "name": "ipython",
    "version": 3
   },
   "file_extension": ".py",
   "mimetype": "text/x-python",
   "name": "python",
   "nbconvert_exporter": "python",
   "pygments_lexer": "ipython3",
   "version": "3.11.2"
  }
 },
 "nbformat": 4,
 "nbformat_minor": 5
}
